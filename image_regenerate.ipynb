{
 "cells": [
  {
   "cell_type": "code",
   "execution_count": 10,
   "id": "b96a9688",
   "metadata": {},
   "outputs": [
    {
     "name": "stdout",
     "output_type": "stream",
     "text": [
      "100 image variations saved in 'image_variations' directory.\n"
     ]
    }
   ],
   "source": [
    "import os\n",
    "from PIL import Image, ImageEnhance, ImageOps\n",
    "import random\n",
    "\n",
    "# Load the selected image\n",
    "image_path = \"E:/octave/projectfolter/dataset/nonmalignant/111.jpg\"  # Replace with your image path\n",
    "original_image = Image.open(image_path)\n",
    "\n",
    "# Create output directory\n",
    "output_dir = \"image_variations\"\n",
    "os.makedirs(output_dir, exist_ok=True)\n",
    "\n",
    "# Function to apply random transformations\n",
    "def random_transform(image):\n",
    "    # Random rotation between -15 and 15 degrees\n",
    "    image = image.rotate(random.uniform(-180, 180))\n",
    "\n",
    "    # Random brightness adjustment\n",
    "    enhancer = ImageEnhance.Brightness(image)\n",
    "    image = enhancer.enhance(random.uniform(0.8, 1.2))\n",
    "\n",
    "    # Random color adjustment\n",
    "    enhancer = ImageEnhance.Color(image)\n",
    "    image = enhancer.enhance(random.uniform(0.8, 1.2))\n",
    "\n",
    "    # Random contrast adjustment\n",
    "    enhancer = ImageEnhance.Contrast(image)\n",
    "    image = enhancer.enhance(random.uniform(0.8, 1.2))\n",
    "\n",
    "    # Optionally flip horizontally\n",
    "    if random.choice([True, False]):\n",
    "        image = ImageOps.mirror(image)\n",
    "    \n",
    "    return image\n",
    "\n",
    "# Generate 100 variations\n",
    "for i in range(1, 201):\n",
    "    transformed_image = random_transform(original_image)\n",
    "    transformed_image.save(f\"{output_dir}/variation_6{i}.jpg\")\n",
    "\n",
    "print(f\"100 image variations saved in '{output_dir}' directory.\")\n"
   ]
  },
  {
   "cell_type": "code",
   "execution_count": null,
   "id": "bec4809c",
   "metadata": {},
   "outputs": [],
   "source": []
  }
 ],
 "metadata": {
  "kernelspec": {
   "display_name": "Python 3 (ipykernel)",
   "language": "python",
   "name": "python3"
  },
  "language_info": {
   "codemirror_mode": {
    "name": "ipython",
    "version": 3
   },
   "file_extension": ".py",
   "mimetype": "text/x-python",
   "name": "python",
   "nbconvert_exporter": "python",
   "pygments_lexer": "ipython3",
   "version": "3.9.12"
  }
 },
 "nbformat": 4,
 "nbformat_minor": 5
}
